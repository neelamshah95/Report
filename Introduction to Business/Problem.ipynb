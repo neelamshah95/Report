{
    "cells": [
        {
            "cell_type": "markdown",
            "metadata": {
                "collapsed": true
            },
            "source": "INTRODUCTION TO BUSINESS/PROBLEM"
        },
        {
            "cell_type": "markdown",
            "metadata": {},
            "source": "A client wants to open a cafe in a location where no other dessert shops exists. A location where the cafe would be excessible to college students, working class, everyone. Client wants to attract people with its homemade desserts - western and indian. The cafe will also serve healthy food for munching with thickshakes and other beverages. The price would be nominal for all items."
        },
        {
            "cell_type": "markdown",
            "metadata": {},
            "source": "Requirement clauses:-  \nClause 1: If no location exists with zero dessert shops, then a location with very few of them will be preferable.  \nClause 2: Cafe should be accessible and visible to everyone. Means not in a corner.  \nClause 3: City is Vadodara in Gujarat state in India. Choice of location should be nearby Airport."
        },
        {
            "cell_type": "code",
            "execution_count": null,
            "metadata": {},
            "outputs": [],
            "source": ""
        }
    ],
    "metadata": {
        "kernelspec": {
            "display_name": "Python 3.6",
            "language": "python",
            "name": "python3"
        },
        "language_info": {
            "codemirror_mode": {
                "name": "ipython",
                "version": 3
            },
            "file_extension": ".py",
            "mimetype": "text/x-python",
            "name": "python",
            "nbconvert_exporter": "python",
            "pygments_lexer": "ipython3",
            "version": "3.6.9"
        }
    },
    "nbformat": 4,
    "nbformat_minor": 1
}