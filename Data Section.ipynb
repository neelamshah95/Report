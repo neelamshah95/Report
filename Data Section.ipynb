{
    "cells": [
        {
            "cell_type": "markdown",
            "metadata": {},
            "source": "DATA SECTION"
        },
        {
            "cell_type": "markdown",
            "metadata": {
                "collapsed": true
            },
            "source": "As stated in the problem, our client wants to open a cafe in Vadodara nearby Airport area. For that, we will acquire data from Foursquare API of how many cafes or dessert/coffee shops currently exists nearby Airport in Vadodara. We will require data of different cuisines or items which are frequent in the shops to make clients cafe unique in some sort. "
        },
        {
            "cell_type": "markdown",
            "metadata": {},
            "source": "For better operability and functionality of the cafe, we will also require data of the cafes in other locations in Vadodara. This will help to identify the perfect location for cafe. We will need data for the surroundings of the location also to attract more people."
        },
        {
            "cell_type": "code",
            "execution_count": null,
            "metadata": {},
            "outputs": [],
            "source": ""
        }
    ],
    "metadata": {
        "kernelspec": {
            "display_name": "Python 3.6",
            "language": "python",
            "name": "python3"
        },
        "language_info": {
            "codemirror_mode": {
                "name": "ipython",
                "version": 3
            },
            "file_extension": ".py",
            "mimetype": "text/x-python",
            "name": "python",
            "nbconvert_exporter": "python",
            "pygments_lexer": "ipython3",
            "version": "3.6.9"
        }
    },
    "nbformat": 4,
    "nbformat_minor": 1
}